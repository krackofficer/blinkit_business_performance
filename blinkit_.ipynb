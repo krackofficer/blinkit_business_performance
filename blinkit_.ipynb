{
 "cells": [
  {
   "cell_type": "markdown",
   "id": "15cf2016-9016-4759-9988-ef6cfc666df0",
   "metadata": {},
   "source": [
    "# Business Analysis of Blinkit-like Data"
   ]
  },
  {
   "cell_type": "markdown",
   "id": "0d3877f4-f92b-41d0-88aa-032f8f31478d",
   "metadata": {},
   "source": [
    "### *Objective* : Analyze business operations using Python and create insights for Power BI."
   ]
  },
  {
   "cell_type": "markdown",
   "id": "25f847b9-f58f-4233-acd0-b4c8b454a234",
   "metadata": {},
   "source": [
    "### 1. Import Required Libraries"
   ]
  },
  {
   "cell_type": "code",
   "execution_count": 1,
   "id": "88d52f0b-508e-402f-a8b3-0415c76a015b",
   "metadata": {},
   "outputs": [],
   "source": [
    "import pandas as pd\n",
    "import numpy as np\n",
    "import matplotlib.pyplot as plt\n",
    "import seaborn as sns\n",
    "\n",
    "# Set display options\n",
    "pd.set_option('display.float_format', '{:.2f}'.format)\n",
    "\n"
   ]
  },
  {
   "cell_type": "markdown",
   "id": "0e4426a0-d7ab-42eb-81f7-118b7b27609a",
   "metadata": {},
   "source": [
    "### 2. Generate Blinkit-like Business Data"
   ]
  },
  {
   "cell_type": "code",
   "execution_count": 2,
   "id": "51b3a3b3-3ba8-4939-b8f0-580897275f28",
   "metadata": {},
   "outputs": [
    {
     "name": "stderr",
     "output_type": "stream",
     "text": [
      "C:\\Users\\Asus\\AppData\\Local\\Temp\\ipykernel_20616\\4260124742.py:8: FutureWarning: 'T' is deprecated and will be removed in a future version, please use 'min' instead.\n",
      "  \"Order_Date\": pd.date_range(start=\"2023-01-01\", periods=num_rows, freq=\"T\"),\n"
     ]
    },
    {
     "data": {
      "text/html": [
       "<div>\n",
       "<style scoped>\n",
       "    .dataframe tbody tr th:only-of-type {\n",
       "        vertical-align: middle;\n",
       "    }\n",
       "\n",
       "    .dataframe tbody tr th {\n",
       "        vertical-align: top;\n",
       "    }\n",
       "\n",
       "    .dataframe thead th {\n",
       "        text-align: right;\n",
       "    }\n",
       "</style>\n",
       "<table border=\"1\" class=\"dataframe\">\n",
       "  <thead>\n",
       "    <tr style=\"text-align: right;\">\n",
       "      <th></th>\n",
       "      <th>Order_ID</th>\n",
       "      <th>Customer_ID</th>\n",
       "      <th>Order_Date</th>\n",
       "      <th>City</th>\n",
       "      <th>Order_Value</th>\n",
       "      <th>Delivery_Time_Minutes</th>\n",
       "      <th>Payment_Method</th>\n",
       "      <th>Customer_Rating</th>\n",
       "    </tr>\n",
       "  </thead>\n",
       "  <tbody>\n",
       "    <tr>\n",
       "      <th>0</th>\n",
       "      <td>1001</td>\n",
       "      <td>20795</td>\n",
       "      <td>2023-01-01 00:00:00</td>\n",
       "      <td>Bangalore</td>\n",
       "      <td>1462.06</td>\n",
       "      <td>63</td>\n",
       "      <td>UPI</td>\n",
       "      <td>4.10</td>\n",
       "    </tr>\n",
       "    <tr>\n",
       "      <th>1</th>\n",
       "      <td>1002</td>\n",
       "      <td>5860</td>\n",
       "      <td>2023-01-01 00:01:00</td>\n",
       "      <td>Hyderabad</td>\n",
       "      <td>280.88</td>\n",
       "      <td>56</td>\n",
       "      <td>Cash on Delivery</td>\n",
       "      <td>1.90</td>\n",
       "    </tr>\n",
       "    <tr>\n",
       "      <th>2</th>\n",
       "      <td>1003</td>\n",
       "      <td>43158</td>\n",
       "      <td>2023-01-01 00:02:00</td>\n",
       "      <td>Chennai</td>\n",
       "      <td>1194.49</td>\n",
       "      <td>8</td>\n",
       "      <td>Credit Card</td>\n",
       "      <td>2.80</td>\n",
       "    </tr>\n",
       "    <tr>\n",
       "      <th>3</th>\n",
       "      <td>1004</td>\n",
       "      <td>49732</td>\n",
       "      <td>2023-01-01 00:03:00</td>\n",
       "      <td>Delhi</td>\n",
       "      <td>867.41</td>\n",
       "      <td>27</td>\n",
       "      <td>UPI</td>\n",
       "      <td>1.80</td>\n",
       "    </tr>\n",
       "    <tr>\n",
       "      <th>4</th>\n",
       "      <td>1005</td>\n",
       "      <td>16284</td>\n",
       "      <td>2023-01-01 00:04:00</td>\n",
       "      <td>Delhi</td>\n",
       "      <td>1363.63</td>\n",
       "      <td>60</td>\n",
       "      <td>UPI</td>\n",
       "      <td>3.20</td>\n",
       "    </tr>\n",
       "  </tbody>\n",
       "</table>\n",
       "</div>"
      ],
      "text/plain": [
       "   Order_ID  Customer_ID          Order_Date       City  Order_Value  \\\n",
       "0      1001        20795 2023-01-01 00:00:00  Bangalore      1462.06   \n",
       "1      1002         5860 2023-01-01 00:01:00  Hyderabad       280.88   \n",
       "2      1003        43158 2023-01-01 00:02:00    Chennai      1194.49   \n",
       "3      1004        49732 2023-01-01 00:03:00      Delhi       867.41   \n",
       "4      1005        16284 2023-01-01 00:04:00      Delhi      1363.63   \n",
       "\n",
       "   Delivery_Time_Minutes    Payment_Method  Customer_Rating  \n",
       "0                     63               UPI             4.10  \n",
       "1                     56  Cash on Delivery             1.90  \n",
       "2                      8       Credit Card             2.80  \n",
       "3                     27               UPI             1.80  \n",
       "4                     60               UPI             3.20  "
      ]
     },
     "execution_count": 2,
     "metadata": {},
     "output_type": "execute_result"
    }
   ],
   "source": [
    "# Generate Synthetic Data\n",
    "np.random.seed(42)\n",
    "num_rows = 50000  \n",
    "\n",
    "data = {\n",
    "    \"Order_ID\": range(1001, 1001 + num_rows),\n",
    "    \"Customer_ID\": np.random.randint(5000, 50000, num_rows),\n",
    "    \"Order_Date\": pd.date_range(start=\"2023-01-01\", periods=num_rows, freq=\"T\"),\n",
    "    \"City\": np.random.choice([\"Delhi\", \"Mumbai\", \"Bangalore\", \"Hyderabad\", \"Chennai\"], num_rows),\n",
    "    \"Order_Value\": np.random.uniform(50, 1500, num_rows).round(2),\n",
    "    \"Delivery_Time_Minutes\": np.random.randint(5, 90, num_rows),\n",
    "    \"Payment_Method\": np.random.choice([\"Credit Card\", \"UPI\", \"Cash on Delivery\", \"Wallet\"], num_rows),\n",
    "    \"Customer_Rating\": np.random.uniform(1, 5, num_rows).round(1),\n",
    "}\n",
    "\n",
    "# Create DataFrame\n",
    "df = pd.DataFrame(data)\n",
    "\n",
    "# Show first 5 rows\n",
    "df.head()\n"
   ]
  },
  {
   "cell_type": "markdown",
   "id": "e04c6cf6-bd33-4695-bcfd-738133a8f67d",
   "metadata": {},
   "source": [
    "### 3. Data Cleaning & Summary"
   ]
  },
  {
   "cell_type": "code",
   "execution_count": 3,
   "id": "8a61173c-2077-44e3-8768-261d32185495",
   "metadata": {},
   "outputs": [
    {
     "name": "stdout",
     "output_type": "stream",
     "text": [
      "Data Info:\n",
      "<class 'pandas.core.frame.DataFrame'>\n",
      "RangeIndex: 50000 entries, 0 to 49999\n",
      "Data columns (total 8 columns):\n",
      " #   Column                 Non-Null Count  Dtype         \n",
      "---  ------                 --------------  -----         \n",
      " 0   Order_ID               50000 non-null  int64         \n",
      " 1   Customer_ID            50000 non-null  int32         \n",
      " 2   Order_Date             50000 non-null  datetime64[ns]\n",
      " 3   City                   50000 non-null  object        \n",
      " 4   Order_Value            50000 non-null  float64       \n",
      " 5   Delivery_Time_Minutes  50000 non-null  int32         \n",
      " 6   Payment_Method         50000 non-null  object        \n",
      " 7   Customer_Rating        50000 non-null  float64       \n",
      "dtypes: datetime64[ns](1), float64(2), int32(2), int64(1), object(2)\n",
      "memory usage: 2.7+ MB\n",
      "None\n",
      "\n",
      "Missing Values:\n",
      "Order_ID                 0\n",
      "Customer_ID              0\n",
      "Order_Date               0\n",
      "City                     0\n",
      "Order_Value              0\n",
      "Delivery_Time_Minutes    0\n",
      "Payment_Method           0\n",
      "Customer_Rating          0\n",
      "dtype: int64\n",
      "\n",
      "Summary Statistics:\n",
      "       Order_ID  Customer_ID           Order_Date  Order_Value  \\\n",
      "count  50000.00     50000.00                50000     50000.00   \n",
      "mean   26000.50     27294.18  2023-01-18 08:39:30       774.38   \n",
      "min     1001.00      5001.00  2023-01-01 00:00:00        50.33   \n",
      "25%    13500.75     16163.75  2023-01-09 16:19:45       410.84   \n",
      "50%    26000.50     27149.00  2023-01-18 08:39:30       775.01   \n",
      "75%    38500.25     38383.25  2023-01-27 00:59:15      1133.79   \n",
      "max    51000.00     49999.00  2023-02-04 17:19:00      1499.88   \n",
      "std    14433.90     12913.85                  NaN       418.11   \n",
      "\n",
      "       Delivery_Time_Minutes  Customer_Rating  \n",
      "count               50000.00         50000.00  \n",
      "mean                   46.88             3.00  \n",
      "min                     5.00             1.00  \n",
      "25%                    26.00             2.00  \n",
      "50%                    47.00             3.00  \n",
      "75%                    68.00             4.00  \n",
      "max                    89.00             5.00  \n",
      "std                    24.48             1.16  \n"
     ]
    }
   ],
   "source": [
    "# Data Summary\n",
    "print(\"Data Info:\")\n",
    "print(df.info())\n",
    "\n",
    "print(\"\\nMissing Values:\")\n",
    "print(df.isnull().sum())\n",
    "\n",
    "print(\"\\nSummary Statistics:\")\n",
    "print(df.describe())\n"
   ]
  },
  {
   "cell_type": "markdown",
   "id": "ec0cf715-2734-454d-8803-1a1571a77ec1",
   "metadata": {},
   "source": [
    "### 4. Exploratory Data Analysis (EDA)"
   ]
  },
  {
   "cell_type": "code",
   "execution_count": 4,
   "id": "c3a619dd-0bab-4b14-8c3e-cdad43754154",
   "metadata": {},
   "outputs": [
    {
     "name": "stdout",
     "output_type": "stream",
     "text": [
      "Total Revenue: ₹ 38718966.86\n",
      "Average Order Value: ₹ 774.3793372\n",
      "\n",
      "City-wise Sales:\n",
      "City\n",
      "Delhi       7852114.38\n",
      "Mumbai      7772852.88\n",
      "Chennai     7743118.33\n",
      "Hyderabad   7713359.63\n",
      "Bangalore   7637521.64\n",
      "Name: Order_Value, dtype: float64\n"
     ]
    }
   ],
   "source": [
    "# Sales Analysis\n",
    "total_revenue = df[\"Order_Value\"].sum()\n",
    "average_order_value = df[\"Order_Value\"].mean()\n",
    "city_sales = df.groupby(\"City\")[\"Order_Value\"].sum().sort_values(ascending=False)\n",
    "\n",
    "# Customer Behavior\n",
    "average_order_per_city = df.groupby(\"City\")[\"Order_Value\"].mean().round(2)\n",
    "payment_method_distribution = df[\"Payment_Method\"].value_counts()\n",
    "\n",
    "# Delivery Performance\n",
    "average_delivery_time = df[\"Delivery_Time_Minutes\"].mean()\n",
    "delivery_time_per_city = df.groupby(\"City\")[\"Delivery_Time_Minutes\"].mean().round(2)\n",
    "\n",
    "# Customer Satisfaction\n",
    "average_rating = df[\"Customer_Rating\"].mean()\n",
    "rating_per_city = df.groupby(\"City\")[\"Customer_Rating\"].mean().round(2)\n",
    "rating_per_payment = df.groupby(\"Payment_Method\")[\"Customer_Rating\"].mean().round(2)\n",
    "\n",
    "# Display Results\n",
    "print(\"Total Revenue: ₹\", total_revenue)\n",
    "print(\"Average Order Value: ₹\", average_order_value)\n",
    "print(\"\\nCity-wise Sales:\")\n",
    "print(city_sales)\n",
    "\n"
   ]
  },
  {
   "cell_type": "markdown",
   "id": "aa8e1d99-5eab-4c33-8b42-efd686655730",
   "metadata": {},
   "source": [
    "### 5. Data Visualization"
   ]
  },
  {
   "cell_type": "code",
   "execution_count": 5,
   "id": "d9e46594-5fd0-434a-8e72-217bb2ddf88f",
   "metadata": {},
   "outputs": [
    {
     "name": "stderr",
     "output_type": "stream",
     "text": [
      "C:\\Users\\Asus\\AppData\\Local\\Temp\\ipykernel_20616\\92100690.py:3: FutureWarning: \n",
      "\n",
      "Passing `palette` without assigning `hue` is deprecated and will be removed in v0.14.0. Assign the `x` variable to `hue` and set `legend=False` for the same effect.\n",
      "\n",
      "  sns.barplot(x=city_sales.index, y=city_sales.values, palette=\"viridis\")\n"
     ]
    },
    {
     "data": {
      "image/png": "[encoded data removed]",
      "text/plain": [
       "<Figure size 1200x600 with 1 Axes>"
      ]
     },
     "metadata": {},
     "output_type": "display_data"
    },
    {
     "name": "stderr",
     "output_type": "stream",
     "text": [
      "C:\\Users\\Asus\\AppData\\Local\\Temp\\ipykernel_20616\\92100690.py:11: FutureWarning: \n",
      "\n",
      "Passing `palette` without assigning `hue` is deprecated and will be removed in v0.14.0. Assign the `x` variable to `hue` and set `legend=False` for the same effect.\n",
      "\n",
      "  sns.boxplot(x=\"City\", y=\"Order_Value\", data=df, palette=\"coolwarm\")\n"
     ]
    },
    {
     "data": {
      "image/png": "[encoded data removed]",
      "text/plain": [
       "<Figure size 1200x600 with 1 Axes>"
      ]
     },
     "metadata": {},
     "output_type": "display_data"
    },
    {
     "data": {
      "image/png": "[encoded data removed]",
      "text/plain": [
       "<Figure size 800x600 with 1 Axes>"
      ]
     },
     "metadata": {},
     "output_type": "display_data"
    }
   ],
   "source": [
    "# Total Sales by City\n",
    "plt.figure(figsize=(12, 6))\n",
    "sns.barplot(x=city_sales.index, y=city_sales.values, palette=\"viridis\")\n",
    "plt.title(\"Total Sales by City\")\n",
    "plt.xlabel(\"City\")\n",
    "plt.ylabel(\"Total Sales (₹)\")\n",
    "plt.show()\n",
    "\n",
    "# Order Value Distribution by City\n",
    "plt.figure(figsize=(12, 6))\n",
    "sns.boxplot(x=\"City\", y=\"Order_Value\", data=df, palette=\"coolwarm\")\n",
    "plt.title(\"Order Value Distribution by City\")\n",
    "plt.show()\n",
    "\n",
    "# Customer Ratings Distribution\n",
    "plt.figure(figsize=(8, 6))\n",
    "sns.histplot(df[\"Customer_Rating\"], bins=10, kde=True, color=\"blue\")\n",
    "plt.title(\"Customer Ratings Distribution\")\n",
    "plt.show()\n"
   ]
  },
  {
   "cell_type": "markdown",
   "id": "73c94cea-3abc-42c6-b9dc-d966b2a971fb",
   "metadata": {},
   "source": [
    "### 6. Export Data for Power BI"
   ]
  },
  {
   "cell_type": "code",
   "execution_count": 6,
   "id": "e9c9547f-8459-4238-bb2d-d352006a5d50",
   "metadata": {},
   "outputs": [
    {
     "name": "stdout",
     "output_type": "stream",
     "text": [
      "CSV file saved successfully!\n"
     ]
    }
   ],
   "source": [
    "# Export Data to CSV\n",
    "df.to_csv(\"blinkit_business_data.csv\", index=False)\n",
    "print(\"CSV file saved successfully!\")\n"
   ]
  },
  {
   "cell_type": "code",
   "execution_count": null,
   "id": "6143468d-0d35-4b05-b85b-a845f6cb4d4e",
   "metadata": {},
   "outputs": [],
   "source": []
  }
 ],
 "metadata": {
  "kernelspec": {
   "display_name": "Python 3 (ipykernel)",
   "language": "python",
   "name": "python3"
  },
  "language_info": {
   "codemirror_mode": {
    "name": "ipython",
    "version": 3
   },
   "file_extension": ".py",
   "mimetype": "text/x-python",
   "name": "python",
   "nbconvert_exporter": "python",
   "pygments_lexer": "ipython3",
   "version": "3.13.2"
  }
 },
 "nbformat": 4,
 "nbformat_minor": 5
}
